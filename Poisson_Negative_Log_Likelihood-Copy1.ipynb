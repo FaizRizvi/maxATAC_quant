{
 "cells": [
  {
   "cell_type": "code",
   "execution_count": 1,
   "id": "08bc5862",
   "metadata": {},
   "outputs": [],
   "source": [
    "import tensorflow as tf\n",
    "import numpy as np\n",
    "import keras "
   ]
  },
  {
   "cell_type": "code",
   "execution_count": 2,
   "id": "1cb9bbdd",
   "metadata": {},
   "outputs": [],
   "source": [
    "y_true=7.38905609893065\n",
    "y_pred=7.38905609893065"
   ]
  },
  {
   "cell_type": "code",
   "execution_count": 3,
   "id": "15ffa283",
   "metadata": {},
   "outputs": [
    {
     "data": {
      "text/plain": [
       "-7.38905609893065"
      ]
     },
     "execution_count": 3,
     "metadata": {},
     "output_type": "execute_result"
    }
   ],
   "source": [
    "# input - target*np.log(input)\n",
    "y_true - y_pred*np.log(y_true)"
   ]
  },
  {
   "cell_type": "code",
   "execution_count": 7,
   "id": "3bc79d6b",
   "metadata": {},
   "outputs": [
    {
     "name": "stderr",
     "output_type": "stream",
     "text": [
      "2024-08-06 14:10:53.143713: I tensorflow/core/platform/cpu_feature_guard.cc:142] This TensorFlow binary is optimized with oneAPI Deep Neural Network Library (oneDNN) to use the following CPU instructions in performance-critical operations:  AVX2 FMA\n",
      "To enable them in other operations, rebuild TensorFlow with the appropriate compiler flags.\n"
     ]
    },
    {
     "data": {
      "text/plain": [
       "<tf.Tensor: shape=(), dtype=float32, numpy=-7.389056>"
      ]
     },
     "execution_count": 7,
     "metadata": {},
     "output_type": "execute_result"
    }
   ],
   "source": [
    "B = tf.keras.losses.Poisson()\n",
    "B.call([7.38905609893065], [7.38905609893065])"
   ]
  },
  {
   "cell_type": "code",
   "execution_count": 8,
   "id": "03df89f3",
   "metadata": {},
   "outputs": [
    {
     "data": {
      "text/plain": [
       "array([-7.389056], dtype=float32)"
      ]
     },
     "execution_count": 8,
     "metadata": {},
     "output_type": "execute_result"
    }
   ],
   "source": [
    "a=tf.nn.log_poisson_loss(log_input=np.array([2], dtype = np.float32),\n",
    "                         targets = np.array([7.38905609893065], dtype = np.float32),\n",
    "                         compute_full_loss = False)\n",
    "\n",
    "a.numpy()"
   ]
  },
  {
   "cell_type": "code",
   "execution_count": 9,
   "id": "6876823b",
   "metadata": {},
   "outputs": [
    {
     "data": {
      "text/plain": [
       "array([1.9189386], dtype=float32)"
      ]
     },
     "execution_count": 9,
     "metadata": {},
     "output_type": "execute_result"
    }
   ],
   "source": [
    "b=tf.nn.log_poisson_loss(log_input=np.array([2], dtype = np.float32),\n",
    "                         targets = np.array([7.38905609893065], dtype = np.float32),\n",
    "                         compute_full_loss = True)\n",
    "\n",
    "b.numpy()"
   ]
  },
  {
   "cell_type": "code",
   "execution_count": 15,
   "id": "bdd96fe3",
   "metadata": {},
   "outputs": [
    {
     "name": "stdout",
     "output_type": "stream",
     "text": [
      "9.307994632135323\n"
     ]
    }
   ],
   "source": [
    "# Sterling's approx\n",
    "# target * log(target) - target * 0.5 * log(2*pi*target)\n",
    "\n",
    "st = y_pred * np.log(y_pred) - y_pred + 0.5 * np.log(2 * np.pi * y_pred)\n",
    "\n",
    "print(st)"
   ]
  },
  {
   "cell_type": "code",
   "execution_count": 16,
   "id": "68287967",
   "metadata": {},
   "outputs": [
    {
     "data": {
      "text/plain": [
       "1.9189385332046722"
      ]
     },
     "execution_count": 16,
     "metadata": {},
     "output_type": "execute_result"
    }
   ],
   "source": [
    "# input - target*np.log(input) + st\n",
    "y_true - y_pred*np.log(y_true) + st"
   ]
  },
  {
   "cell_type": "code",
   "execution_count": 18,
   "id": "85561f01",
   "metadata": {},
   "outputs": [
    {
     "data": {
      "text/plain": [
       "array([1.9189386], dtype=float32)"
      ]
     },
     "execution_count": 18,
     "metadata": {},
     "output_type": "execute_result"
    }
   ],
   "source": [
    "# So a + st = b\n",
    "a.numpy() + st \n",
    "# it does"
   ]
  },
  {
   "cell_type": "code",
   "execution_count": 19,
   "id": "61473741",
   "metadata": {},
   "outputs": [],
   "source": [
    "# log_poisson_loss requires log transformed data as input\n",
    "# Computes log Poisson loss given log_input.\n",
    "# https://github.com/tensorflow/tensorflow/blob/5bc9d26649cca274750ad3625bd93422617eed4b/tensorflow/python/ops/nn_impl.py#L43-L106\n"
   ]
  },
  {
   "cell_type": "code",
   "execution_count": 24,
   "id": "81068f84",
   "metadata": {},
   "outputs": [
    {
     "data": {
      "text/plain": [
       "array([6.186291], dtype=float32)"
      ]
     },
     "execution_count": 24,
     "metadata": {},
     "output_type": "execute_result"
    }
   ],
   "source": [
    "c=tf.nn.log_poisson_loss(log_input=np.array([np.log(2)],dtype=np.float32),\n",
    "                         targets = np.array([7.38905609893065], dtype=np.float32),\n",
    "                         compute_full_loss=True)\n",
    "\n",
    "c.numpy()"
   ]
  },
  {
   "cell_type": "code",
   "execution_count": null,
   "id": "ebf03cc3",
   "metadata": {},
   "outputs": [],
   "source": []
  }
 ],
 "metadata": {
  "kernelspec": {
   "display_name": "quant",
   "language": "python",
   "name": "quant"
  },
  "language_info": {
   "codemirror_mode": {
    "name": "ipython",
    "version": 3
   },
   "file_extension": ".py",
   "mimetype": "text/x-python",
   "name": "python",
   "nbconvert_exporter": "python",
   "pygments_lexer": "ipython3",
   "version": "3.9.19"
  }
 },
 "nbformat": 4,
 "nbformat_minor": 5
}
